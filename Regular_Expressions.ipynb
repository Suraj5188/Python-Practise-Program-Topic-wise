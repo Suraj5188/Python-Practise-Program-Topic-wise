{
  "nbformat": 4,
  "nbformat_minor": 0,
  "metadata": {
    "colab": {
      "provenance": [],
      "authorship_tag": "ABX9TyM9SrGWDu/eVge4sfbw0eND",
      "include_colab_link": true
    },
    "kernelspec": {
      "name": "python3",
      "display_name": "Python 3"
    },
    "language_info": {
      "name": "python"
    }
  },
  "cells": [
    {
      "cell_type": "markdown",
      "metadata": {
        "id": "view-in-github",
        "colab_type": "text"
      },
      "source": [
        "<a href=\"https://colab.research.google.com/github/Suraj5188/Python-Practise-Program-Topic-wise/blob/main/Regular_Expressions.ipynb\" target=\"_parent\"><img src=\"https://colab.research.google.com/assets/colab-badge.svg\" alt=\"Open In Colab\"/></a>"
      ]
    },
    {
      "cell_type": "markdown",
      "source": [
        "# **Raw string**\n",
        "*It is used to print the sequence of charcter*"
      ],
      "metadata": {
        "id": "LonXuzVUYlLJ"
      }
    },
    {
      "cell_type": "code",
      "execution_count": null,
      "metadata": {
        "id": "eo2u4LCGdTXl",
        "colab": {
          "base_uri": "https://localhost:8080/"
        },
        "outputId": "c75197e5-7c72-44ee-be6e-9e6289362f7d"
      },
      "outputs": [
        {
          "output_type": "stream",
          "name": "stdout",
          "text": [
            "\\n\n",
            "\\t\n"
          ]
        }
      ],
      "source": [
        "print(r\"\\n\")\n",
        "print(r\"\\t\")"
      ]
    },
    {
      "cell_type": "markdown",
      "source": [
        "## **Fuctions in RegEx:**\n",
        "# *1.Findall*"
      ],
      "metadata": {
        "id": "EcWFh4O_Yhxn"
      }
    },
    {
      "cell_type": "code",
      "source": [
        "#findall function\n",
        "import re\n",
        "str='''Most paragraphs contain between three and five sentences, but there are plenty \n",
        "of exceptions. Different types of paragraphs \n",
        "have different numbers of sentences, \n",
        "like those in narrative writing, in 100 particular, \n",
        "where single-sentence paragraphs are common'''\n",
        "rs_1=re.findall(\"in\",str)\n",
        "print(rs_1)"
      ],
      "metadata": {
        "id": "KgM3r3LbFqKd",
        "colab": {
          "base_uri": "https://localhost:8080/"
        },
        "outputId": "47cc093b-cb0c-4df0-9832-abbb3d1d1fd6"
      },
      "execution_count": null,
      "outputs": [
        {
          "output_type": "stream",
          "name": "stdout",
          "text": [
            "['in', 'in', 'in', 'in', 'in']\n"
          ]
        }
      ]
    },
    {
      "cell_type": "code",
      "source": [
        "#if their is no match empty list will be return\n",
        "rs_2=re.findall(\"suraj\",str)\n",
        "print(rs_2)"
      ],
      "metadata": {
        "colab": {
          "base_uri": "https://localhost:8080/"
        },
        "id": "_3bl3JERZ8vt",
        "outputId": "4fd6709f-a3b1-4de9-c992-d4076e41b363"
      },
      "execution_count": null,
      "outputs": [
        {
          "output_type": "stream",
          "name": "stdout",
          "text": [
            "[]\n"
          ]
        }
      ]
    },
    {
      "cell_type": "markdown",
      "source": [
        "# ***2. Search***"
      ],
      "metadata": {
        "id": "LO6phbjJb2Yr"
      }
    },
    {
      "cell_type": "code",
      "source": [
        "rs_3=re.search(\"in\",str)\n",
        "print(rs_3)\n",
        "\n",
        "#span means slicing(21,23) it will return \"in\" \n",
        "print(str[21:23])"
      ],
      "metadata": {
        "colab": {
          "base_uri": "https://localhost:8080/"
        },
        "id": "V02KR3bCbDb4",
        "outputId": "dd12f3d1-056f-4c93-e117-64ba3a25cfd5"
      },
      "execution_count": null,
      "outputs": [
        {
          "output_type": "stream",
          "name": "stdout",
          "text": [
            "<re.Match object; span=(21, 23), match='in'>\n",
            "in\n"
          ]
        }
      ]
    },
    {
      "cell_type": "markdown",
      "source": [
        "# 3. ***Split***"
      ],
      "metadata": {
        "id": "9ZZfEOmTcuga"
      }
    },
    {
      "cell_type": "code",
      "source": [
        "#split the string\n",
        "rs_4=re.split(\"\\s\",str)\n",
        "print(rs_4)"
      ],
      "metadata": {
        "colab": {
          "base_uri": "https://localhost:8080/"
        },
        "id": "aLJyF_SfbNIB",
        "outputId": "e2ba1868-5c7e-406d-d4da-d7c79d489521"
      },
      "execution_count": null,
      "outputs": [
        {
          "output_type": "stream",
          "name": "stdout",
          "text": [
            "['Most', 'paragraphs', 'contain', 'between', 'three', 'and', 'five', 'sentences,', 'but', 'there', 'are', 'plenty', '', 'of', 'exceptions.', 'Different', 'types', 'of', 'paragraphs', '', 'have', 'different', 'numbers', 'of', 'sentences,', '', 'like', 'those', 'in', 'narrative', 'writing,', 'in', 'particular,', '', 'where', 'single-sentence', 'paragraphs', 'are', 'common.', '']\n"
          ]
        }
      ]
    },
    {
      "cell_type": "code",
      "source": [
        "#now we can split the string only one occurance\n",
        "rs_5=re.split(\"\\s\",str,1)\n",
        "print(rs_5)"
      ],
      "metadata": {
        "colab": {
          "base_uri": "https://localhost:8080/"
        },
        "id": "PZFS72zucS-T",
        "outputId": "38b4536b-d5ca-4d9c-fb2b-bd505d2bc593"
      },
      "execution_count": null,
      "outputs": [
        {
          "output_type": "stream",
          "name": "stdout",
          "text": [
            "['Most', 'paragraphs contain between three and five sentences, but there are plenty \\nof exceptions. Different types of paragraphs \\nhave different numbers of sentences, \\nlike those in narrative writing, in particular, \\nwhere single-sentence paragraphs are common.\\n']\n"
          ]
        }
      ]
    },
    {
      "cell_type": "markdown",
      "source": [
        "# ***4.sub***"
      ],
      "metadata": {
        "id": "wVDA4PqoeaQh"
      }
    },
    {
      "cell_type": "code",
      "source": [
        "#sub function replace the matches with our choice\n",
        "\n",
        "rs_6=re.sub(\"\\s\",\"10\",str)#replace white space with 10\n",
        "print(rs_6)"
      ],
      "metadata": {
        "colab": {
          "base_uri": "https://localhost:8080/"
        },
        "id": "LeSpfP0Ed8ez",
        "outputId": "61b3d130-cf98-4f9d-a349-17c6f29e4384"
      },
      "execution_count": null,
      "outputs": [
        {
          "output_type": "stream",
          "name": "stdout",
          "text": [
            "Most10paragraphs10contain10between10three10and10five10sentences,10but10there10are10plenty1010of10exceptions.10Different10types10of10paragraphs1010have10different10numbers10of10sentences,1010like10those10in10narrative10writing,10in10particular,1010where10single-sentence10paragraphs10are10common.10\n"
          ]
        }
      ]
    },
    {
      "cell_type": "code",
      "source": [
        "#here we specify the occurence where we have to replace\n",
        "\n",
        "rs_7=re.sub(\"\\s\",\"10\",str,2)\n",
        "print(rs_7)"
      ],
      "metadata": {
        "colab": {
          "base_uri": "https://localhost:8080/"
        },
        "id": "-qfEzUzLfaV6",
        "outputId": "09f7e1fc-17d2-471a-e820-4c84f987cfcc"
      },
      "execution_count": null,
      "outputs": [
        {
          "output_type": "stream",
          "name": "stdout",
          "text": [
            "Most10paragraphs10contain between three and five sentences, but there are plenty \n",
            "of exceptions. Different types of paragraphs \n",
            "have different numbers of sentences, \n",
            "like those in narrative writing, in particular, \n",
            "where single-sentence paragraphs are common.\n",
            "\n"
          ]
        }
      ]
    },
    {
      "cell_type": "markdown",
      "source": [
        "# ***# 4. finditer***"
      ],
      "metadata": {
        "id": "H2T5R0HdpYcA"
      }
    },
    {
      "cell_type": "code",
      "source": [
        "#finditer object will return the matches in the given string except list\n",
        "result=re.finditer(r\"\\s\",str)\n",
        "for matches in result:\n",
        "  print(matches)"
      ],
      "metadata": {
        "colab": {
          "base_uri": "https://localhost:8080/"
        },
        "id": "rINoub8LpkNX",
        "outputId": "0f9fb39b-2e2b-4c96-b29f-d0a2e90b70d1"
      },
      "execution_count": null,
      "outputs": [
        {
          "output_type": "stream",
          "name": "stdout",
          "text": [
            "<re.Match object; span=(4, 5), match=' '>\n",
            "<re.Match object; span=(15, 16), match=' '>\n",
            "<re.Match object; span=(23, 24), match=' '>\n",
            "<re.Match object; span=(31, 32), match=' '>\n",
            "<re.Match object; span=(37, 38), match=' '>\n",
            "<re.Match object; span=(41, 42), match=' '>\n",
            "<re.Match object; span=(46, 47), match=' '>\n",
            "<re.Match object; span=(57, 58), match=' '>\n",
            "<re.Match object; span=(61, 62), match=' '>\n",
            "<re.Match object; span=(67, 68), match=' '>\n",
            "<re.Match object; span=(71, 72), match=' '>\n",
            "<re.Match object; span=(78, 79), match=' '>\n",
            "<re.Match object; span=(79, 80), match='\\n'>\n",
            "<re.Match object; span=(82, 83), match=' '>\n",
            "<re.Match object; span=(94, 95), match=' '>\n",
            "<re.Match object; span=(104, 105), match=' '>\n",
            "<re.Match object; span=(110, 111), match=' '>\n",
            "<re.Match object; span=(113, 114), match=' '>\n",
            "<re.Match object; span=(124, 125), match=' '>\n",
            "<re.Match object; span=(125, 126), match='\\n'>\n",
            "<re.Match object; span=(130, 131), match=' '>\n",
            "<re.Match object; span=(140, 141), match=' '>\n",
            "<re.Match object; span=(148, 149), match=' '>\n",
            "<re.Match object; span=(151, 152), match=' '>\n",
            "<re.Match object; span=(162, 163), match=' '>\n",
            "<re.Match object; span=(163, 164), match='\\n'>\n",
            "<re.Match object; span=(168, 169), match=' '>\n",
            "<re.Match object; span=(174, 175), match=' '>\n",
            "<re.Match object; span=(177, 178), match=' '>\n",
            "<re.Match object; span=(187, 188), match=' '>\n",
            "<re.Match object; span=(196, 197), match=' '>\n",
            "<re.Match object; span=(199, 200), match=' '>\n",
            "<re.Match object; span=(211, 212), match=' '>\n",
            "<re.Match object; span=(212, 213), match='\\n'>\n",
            "<re.Match object; span=(218, 219), match=' '>\n",
            "<re.Match object; span=(234, 235), match=' '>\n",
            "<re.Match object; span=(245, 246), match=' '>\n",
            "<re.Match object; span=(249, 250), match=' '>\n",
            "<re.Match object; span=(257, 258), match='\\n'>\n"
          ]
        }
      ]
    },
    {
      "cell_type": "markdown",
      "source": [
        "# **Now using Meta character**"
      ],
      "metadata": {
        "id": "vkpe39YFf51u"
      }
    },
    {
      "cell_type": "markdown",
      "source": [
        "# 1.***Chracter ---  [ ] (used to set of character)***"
      ],
      "metadata": {
        "id": "3JI4CD4qgM2N"
      }
    },
    {
      "cell_type": "code",
      "source": [
        "#[]-it will find the set of character between them\n",
        "result=re.findall(\"[a-h]\",str)\n",
        "print(result)"
      ],
      "metadata": {
        "colab": {
          "base_uri": "https://localhost:8080/"
        },
        "id": "Yw3e8ma3f0AJ",
        "outputId": "f8fd381e-0449-4f31-9231-6165b9f8cb82"
      },
      "execution_count": null,
      "outputs": [
        {
          "output_type": "stream",
          "name": "stdout",
          "text": [
            "['a', 'a', 'g', 'a', 'h', 'c', 'a', 'b', 'e', 'e', 'e', 'h', 'e', 'e', 'a', 'd', 'f', 'e', 'e', 'e', 'c', 'e', 'b', 'h', 'e', 'e', 'a', 'e', 'e', 'f', 'e', 'c', 'e', 'f', 'f', 'e', 'e', 'e', 'f', 'a', 'a', 'g', 'a', 'h', 'h', 'a', 'e', 'd', 'f', 'f', 'e', 'e', 'b', 'e', 'f', 'e', 'e', 'c', 'e', 'e', 'h', 'e', 'a', 'a', 'e', 'g', 'a', 'c', 'a', 'h', 'e', 'e', 'g', 'e', 'e', 'e', 'c', 'e', 'a', 'a', 'g', 'a', 'h', 'a', 'e', 'c']\n"
          ]
        }
      ]
    },
    {
      "cell_type": "markdown",
      "source": [
        "# ***2.Charcter--- \\ (Used to escape character)***"
      ],
      "metadata": {
        "id": "YA2m001lhoAS"
      }
    },
    {
      "cell_type": "code",
      "source": [
        "result=re.findall(\"\\n\",str)\n",
        "print(result)"
      ],
      "metadata": {
        "colab": {
          "base_uri": "https://localhost:8080/"
        },
        "id": "fQHt8I0bhZPE",
        "outputId": "757bfe6a-119c-4781-bcb8-d88d757554db"
      },
      "execution_count": null,
      "outputs": [
        {
          "output_type": "stream",
          "name": "stdout",
          "text": [
            "['\\n', '\\n', '\\n', '\\n', '\\n']\n"
          ]
        }
      ]
    },
    {
      "cell_type": "markdown",
      "source": [
        "## ***3 Charcter--- .(Any character)***"
      ],
      "metadata": {
        "id": "vASSIYxPiLYm"
      }
    },
    {
      "cell_type": "code",
      "source": [
        "#it will return any charcter\n",
        "#patt=re.compile(r\".se\")\n",
        "matches=re.finditer(r\".se\",str)\n",
        "for match in matches:\n",
        "  print(match)"
      ],
      "metadata": {
        "colab": {
          "base_uri": "https://localhost:8080/"
        },
        "id": "eIX3VaVpiO0n",
        "outputId": "ec66f1bf-6de3-41c9-c809-d1d058748e79"
      },
      "execution_count": null,
      "outputs": [
        {
          "output_type": "stream",
          "name": "stdout",
          "text": [
            "<re.Match object; span=(46, 49), match=' se'>\n",
            "<re.Match object; span=(151, 154), match=' se'>\n",
            "<re.Match object; span=(171, 174), match='ose'>\n",
            "<re.Match object; span=(225, 228), match='-se'>\n"
          ]
        }
      ]
    },
    {
      "cell_type": "markdown",
      "source": [
        "# ***4.Charcter --- ^(starts with)***"
      ],
      "metadata": {
        "id": "LzRa5c28qIML"
      }
    },
    {
      "cell_type": "code",
      "source": [
        "matches=re.finditer(r\"^Most\",str)\n",
        "for match in matches:\n",
        "  print(match)"
      ],
      "metadata": {
        "colab": {
          "base_uri": "https://localhost:8080/"
        },
        "id": "l_tAGoE4k8Vx",
        "outputId": "9d748ea8-2edf-40ed-ee39-dfbc948744c5"
      },
      "execution_count": null,
      "outputs": [
        {
          "output_type": "stream",
          "name": "stdout",
          "text": [
            "<re.Match object; span=(0, 4), match='Most'>\n"
          ]
        }
      ]
    },
    {
      "cell_type": "markdown",
      "source": [
        "# ***5. Charcter--- $ (Ends with)***"
      ],
      "metadata": {
        "id": "rgNSskyur1__"
      }
    },
    {
      "cell_type": "code",
      "source": [
        "str2=\"hello suraj\"\n",
        "matches=re.finditer(r\"suraj$\",str2)\n",
        "for match in matches:\n",
        "  print(match)"
      ],
      "metadata": {
        "colab": {
          "base_uri": "https://localhost:8080/"
        },
        "id": "oNVbY0NDriSB",
        "outputId": "00ef5cbc-4dc0-473c-ad59-82c0cc96c505"
      },
      "execution_count": null,
      "outputs": [
        {
          "output_type": "stream",
          "name": "stdout",
          "text": [
            "<re.Match object; span=(6, 11), match='suraj'>\n"
          ]
        }
      ]
    },
    {
      "cell_type": "code",
      "source": [],
      "metadata": {
        "id": "PJp5DeCBtROz"
      },
      "execution_count": null,
      "outputs": []
    },
    {
      "cell_type": "markdown",
      "source": [
        "# ***6 .Charcter--- *(Zero or more occurance)***"
      ],
      "metadata": {
        "id": "wWee0Tlgue6t"
      }
    },
    {
      "cell_type": "code",
      "source": [
        "matches=re.finditer(r\"ar*\",str)\n",
        "for match in matches:\n",
        "  print(match)"
      ],
      "metadata": {
        "colab": {
          "base_uri": "https://localhost:8080/"
        },
        "id": "vOrxbjNDu8IG",
        "outputId": "2029e8ab-c554-472e-9331-fefdb54daf14"
      },
      "execution_count": null,
      "outputs": [
        {
          "output_type": "stream",
          "name": "stdout",
          "text": [
            "<re.Match object; span=(6, 8), match='ar'>\n",
            "<re.Match object; span=(8, 9), match='a'>\n",
            "<re.Match object; span=(11, 12), match='a'>\n",
            "<re.Match object; span=(20, 21), match='a'>\n",
            "<re.Match object; span=(38, 39), match='a'>\n",
            "<re.Match object; span=(68, 70), match='ar'>\n",
            "<re.Match object; span=(115, 117), match='ar'>\n",
            "<re.Match object; span=(117, 118), match='a'>\n",
            "<re.Match object; span=(120, 121), match='a'>\n",
            "<re.Match object; span=(127, 128), match='a'>\n",
            "<re.Match object; span=(179, 182), match='arr'>\n",
            "<re.Match object; span=(182, 183), match='a'>\n",
            "<re.Match object; span=(201, 203), match='ar'>\n",
            "<re.Match object; span=(208, 210), match='ar'>\n",
            "<re.Match object; span=(236, 238), match='ar'>\n",
            "<re.Match object; span=(238, 239), match='a'>\n",
            "<re.Match object; span=(241, 242), match='a'>\n",
            "<re.Match object; span=(246, 248), match='ar'>\n"
          ]
        }
      ]
    },
    {
      "cell_type": "code",
      "source": [],
      "metadata": {
        "id": "eUqyJq1LvVCf"
      },
      "execution_count": null,
      "outputs": []
    },
    {
      "cell_type": "markdown",
      "source": [
        "# ***7.Character-- + (one or more occurance)***"
      ],
      "metadata": {
        "id": "HnGDZz9sviCM"
      }
    },
    {
      "cell_type": "code",
      "source": [
        "matches=re.finditer(r\"th.+se\",str)\n",
        "for match in matches:\n",
        "  print(match)"
      ],
      "metadata": {
        "colab": {
          "base_uri": "https://localhost:8080/"
        },
        "id": "_IA6i0kSvxPf",
        "outputId": "f3065e7e-f897-42c0-b705-8d127dc33b5b"
      },
      "execution_count": null,
      "outputs": [
        {
          "output_type": "stream",
          "name": "stdout",
          "text": [
            "<re.Match object; span=(32, 49), match='three and five se'>\n",
            "<re.Match object; span=(169, 174), match='those'>\n"
          ]
        }
      ]
    },
    {
      "cell_type": "markdown",
      "source": [
        "# ***8.Charcter --- {} (Exactly the specified number of occurrences)***"
      ],
      "metadata": {
        "id": "FZGN2pfGw1KX"
      }
    },
    {
      "cell_type": "code",
      "source": [
        "matches=re.finditer(r\"th.+se{1}\",str)\n",
        "for match in matches:\n",
        "  print(match)"
      ],
      "metadata": {
        "colab": {
          "base_uri": "https://localhost:8080/"
        },
        "id": "jlYUxV_bwgPA",
        "outputId": "868105e9-e7a3-49ef-d64c-0cf0abef3bd8"
      },
      "execution_count": null,
      "outputs": [
        {
          "output_type": "stream",
          "name": "stdout",
          "text": [
            "<re.Match object; span=(32, 49), match='three and five se'>\n",
            "<re.Match object; span=(169, 174), match='those'>\n"
          ]
        }
      ]
    },
    {
      "cell_type": "markdown",
      "source": [
        "# ***9.Character--- |\t(Either or)***"
      ],
      "metadata": {
        "id": "usmT_CsbxNt4"
      }
    },
    {
      "cell_type": "code",
      "source": [
        "matches=re.finditer(r\"th.+se{1} | s\",str)\n",
        "for match in matches:\n",
        "  print(match)"
      ],
      "metadata": {
        "colab": {
          "base_uri": "https://localhost:8080/"
        },
        "id": "dijjluprxD3M",
        "outputId": "d4353e38-bba7-41a0-825e-ec35beaa666f"
      },
      "execution_count": null,
      "outputs": [
        {
          "output_type": "stream",
          "name": "stdout",
          "text": [
            "<re.Match object; span=(46, 48), match=' s'>\n",
            "<re.Match object; span=(151, 153), match=' s'>\n",
            "<re.Match object; span=(169, 175), match='those '>\n",
            "<re.Match object; span=(218, 220), match=' s'>\n"
          ]
        }
      ]
    },
    {
      "cell_type": "markdown",
      "source": [
        "# ***10 . Charcter--- ()\t(Capture and group)***"
      ],
      "metadata": {
        "id": "lolIZn5MxjyQ"
      }
    },
    {
      "cell_type": "code",
      "source": [
        "matches=re.finditer(r\"(se){1}\",str)\n",
        "for match in matches:\n",
        "  print(match)"
      ],
      "metadata": {
        "colab": {
          "base_uri": "https://localhost:8080/"
        },
        "id": "EM9QPaLXxsfJ",
        "outputId": "7067315b-87ca-4f1a-97bc-93585c75dee9"
      },
      "execution_count": null,
      "outputs": [
        {
          "output_type": "stream",
          "name": "stdout",
          "text": [
            "<re.Match object; span=(47, 49), match='se'>\n",
            "<re.Match object; span=(152, 154), match='se'>\n",
            "<re.Match object; span=(172, 174), match='se'>\n",
            "<re.Match object; span=(226, 228), match='se'>\n"
          ]
        }
      ]
    },
    {
      "cell_type": "markdown",
      "source": [
        "# **Special sequences**"
      ],
      "metadata": {
        "id": "pRci9OvduhFV"
      }
    },
    {
      "cell_type": "markdown",
      "source": [
        "# ***\\A\t:- (Returns a match if the specified characters are at the beginning of the string)***"
      ],
      "metadata": {
        "id": "XBdZp3mYvKw4"
      }
    },
    {
      "cell_type": "code",
      "source": [
        "str='''Most paragraphs contain between three and five sentences, but there are plenty \n",
        "of exceptions. Different types of paragraphs \n",
        "have different numbers of sentences, \n",
        "like those in narrative writing, in 100 particular, \n",
        "where single-sentence paragraphs are common'''\n",
        "import re\n",
        "matches=re.finditer(r\"\\AMost\",str)\n",
        "for match in matches:\n",
        "  print(match)"
      ],
      "metadata": {
        "id": "BU-7pjp5x7EB",
        "colab": {
          "base_uri": "https://localhost:8080/"
        },
        "outputId": "04f35ff5-0f54-4cdb-81b5-9c230a03fcf0"
      },
      "execution_count": 9,
      "outputs": [
        {
          "output_type": "stream",
          "name": "stdout",
          "text": [
            "<re.Match object; span=(0, 4), match='Most'>\n"
          ]
        }
      ]
    },
    {
      "cell_type": "markdown",
      "source": [
        "\\b\tReturns a match where the specified characters are at the beginning or at the end of a word\n",
        "(the \"r\" in the beginning is making sure that the string is being treated as a \"raw string\") "
      ],
      "metadata": {
        "id": "BTddd-Oew3WO"
      }
    },
    {
      "cell_type": "code",
      "source": [
        "matches=re.finditer(r\"\\btypes\",str)\n",
        "for match in matches:\n",
        "  print(match)"
      ],
      "metadata": {
        "colab": {
          "base_uri": "https://localhost:8080/"
        },
        "id": "Gl5QH19OvpAF",
        "outputId": "a8fd209c-a17b-4578-fd7f-8254a0798f1b"
      },
      "execution_count": 11,
      "outputs": [
        {
          "output_type": "stream",
          "name": "stdout",
          "text": [
            "<re.Match object; span=(105, 110), match='types'>\n"
          ]
        }
      ]
    },
    {
      "cell_type": "code",
      "source": [
        "matches=re.finditer(r\"mon\\b\",str)\n",
        "for match in matches:\n",
        "  print(match)"
      ],
      "metadata": {
        "colab": {
          "base_uri": "https://localhost:8080/"
        },
        "id": "9AMNY_OFyl49",
        "outputId": "0df0658d-74ce-4e68-80e6-ccbcca077e50"
      },
      "execution_count": 13,
      "outputs": [
        {
          "output_type": "stream",
          "name": "stdout",
          "text": [
            "<re.Match object; span=(257, 260), match='mon'>\n"
          ]
        }
      ]
    },
    {
      "cell_type": "markdown",
      "source": [
        "# **\\B\tReturns a match where the specified characters are present, but NOT at the beginning (or at the end) of a word**"
      ],
      "metadata": {
        "id": "5ex5FWiCz6ky"
      }
    },
    {
      "cell_type": "code",
      "source": [
        "matches=re.finditer(r\"\\Bin\",str)\n",
        "for match in matches:\n",
        "  print(match)"
      ],
      "metadata": {
        "colab": {
          "base_uri": "https://localhost:8080/"
        },
        "id": "GVj6smGRzeCf",
        "outputId": "c7b41ff5-5c53-41fb-aa02-5c2c462b2554"
      },
      "execution_count": 17,
      "outputs": [
        {
          "output_type": "stream",
          "name": "stdout",
          "text": [
            "<re.Match object; span=(21, 23), match='in'>\n",
            "<re.Match object; span=(192, 194), match='in'>\n",
            "<re.Match object; span=(224, 226), match='in'>\n"
          ]
        }
      ]
    },
    {
      "cell_type": "markdown",
      "source": [
        "# **\\d\tReturns a match where the string contains digits (numbers from 0-9)** "
      ],
      "metadata": {
        "id": "iS4YRoD00gbK"
      }
    },
    {
      "cell_type": "code",
      "source": [
        "matches=re.finditer(r\"\\d\",str)\n",
        "for match in matches:\n",
        "  print(match)"
      ],
      "metadata": {
        "colab": {
          "base_uri": "https://localhost:8080/"
        },
        "id": "1kFwre150E7h",
        "outputId": "5a973570-a4e8-4218-8193-cb439261a8cd"
      },
      "execution_count": 22,
      "outputs": [
        {
          "output_type": "stream",
          "name": "stdout",
          "text": [
            "<re.Match object; span=(200, 201), match='1'>\n",
            "<re.Match object; span=(201, 202), match='0'>\n",
            "<re.Match object; span=(202, 203), match='0'>\n"
          ]
        }
      ]
    },
    {
      "cell_type": "markdown",
      "source": [
        "# ***\\D\tReturns a match where the string DOES NOT contain digits***"
      ],
      "metadata": {
        "id": "Ww34wiGO1GKn"
      }
    },
    {
      "cell_type": "code",
      "source": [
        "matches=re.finditer(r\"\\D\",str)\n",
        "for match in matches:\n",
        "  print(match)"
      ],
      "metadata": {
        "colab": {
          "base_uri": "https://localhost:8080/"
        },
        "id": "LNgUNgw60q_0",
        "outputId": "685e182e-ef50-4c83-f94e-8e6e74fde1cb"
      },
      "execution_count": 23,
      "outputs": [
        {
          "output_type": "stream",
          "name": "stdout",
          "text": [
            "<re.Match object; span=(0, 1), match='M'>\n",
            "<re.Match object; span=(1, 2), match='o'>\n",
            "<re.Match object; span=(2, 3), match='s'>\n",
            "<re.Match object; span=(3, 4), match='t'>\n",
            "<re.Match object; span=(4, 5), match=' '>\n",
            "<re.Match object; span=(5, 6), match='p'>\n",
            "<re.Match object; span=(6, 7), match='a'>\n",
            "<re.Match object; span=(7, 8), match='r'>\n",
            "<re.Match object; span=(8, 9), match='a'>\n",
            "<re.Match object; span=(9, 10), match='g'>\n",
            "<re.Match object; span=(10, 11), match='r'>\n",
            "<re.Match object; span=(11, 12), match='a'>\n",
            "<re.Match object; span=(12, 13), match='p'>\n",
            "<re.Match object; span=(13, 14), match='h'>\n",
            "<re.Match object; span=(14, 15), match='s'>\n",
            "<re.Match object; span=(15, 16), match=' '>\n",
            "<re.Match object; span=(16, 17), match='c'>\n",
            "<re.Match object; span=(17, 18), match='o'>\n",
            "<re.Match object; span=(18, 19), match='n'>\n",
            "<re.Match object; span=(19, 20), match='t'>\n",
            "<re.Match object; span=(20, 21), match='a'>\n",
            "<re.Match object; span=(21, 22), match='i'>\n",
            "<re.Match object; span=(22, 23), match='n'>\n",
            "<re.Match object; span=(23, 24), match=' '>\n",
            "<re.Match object; span=(24, 25), match='b'>\n",
            "<re.Match object; span=(25, 26), match='e'>\n",
            "<re.Match object; span=(26, 27), match='t'>\n",
            "<re.Match object; span=(27, 28), match='w'>\n",
            "<re.Match object; span=(28, 29), match='e'>\n",
            "<re.Match object; span=(29, 30), match='e'>\n",
            "<re.Match object; span=(30, 31), match='n'>\n",
            "<re.Match object; span=(31, 32), match=' '>\n",
            "<re.Match object; span=(32, 33), match='t'>\n",
            "<re.Match object; span=(33, 34), match='h'>\n",
            "<re.Match object; span=(34, 35), match='r'>\n",
            "<re.Match object; span=(35, 36), match='e'>\n",
            "<re.Match object; span=(36, 37), match='e'>\n",
            "<re.Match object; span=(37, 38), match=' '>\n",
            "<re.Match object; span=(38, 39), match='a'>\n",
            "<re.Match object; span=(39, 40), match='n'>\n",
            "<re.Match object; span=(40, 41), match='d'>\n",
            "<re.Match object; span=(41, 42), match=' '>\n",
            "<re.Match object; span=(42, 43), match='f'>\n",
            "<re.Match object; span=(43, 44), match='i'>\n",
            "<re.Match object; span=(44, 45), match='v'>\n",
            "<re.Match object; span=(45, 46), match='e'>\n",
            "<re.Match object; span=(46, 47), match=' '>\n",
            "<re.Match object; span=(47, 48), match='s'>\n",
            "<re.Match object; span=(48, 49), match='e'>\n",
            "<re.Match object; span=(49, 50), match='n'>\n",
            "<re.Match object; span=(50, 51), match='t'>\n",
            "<re.Match object; span=(51, 52), match='e'>\n",
            "<re.Match object; span=(52, 53), match='n'>\n",
            "<re.Match object; span=(53, 54), match='c'>\n",
            "<re.Match object; span=(54, 55), match='e'>\n",
            "<re.Match object; span=(55, 56), match='s'>\n",
            "<re.Match object; span=(56, 57), match=','>\n",
            "<re.Match object; span=(57, 58), match=' '>\n",
            "<re.Match object; span=(58, 59), match='b'>\n",
            "<re.Match object; span=(59, 60), match='u'>\n",
            "<re.Match object; span=(60, 61), match='t'>\n",
            "<re.Match object; span=(61, 62), match=' '>\n",
            "<re.Match object; span=(62, 63), match='t'>\n",
            "<re.Match object; span=(63, 64), match='h'>\n",
            "<re.Match object; span=(64, 65), match='e'>\n",
            "<re.Match object; span=(65, 66), match='r'>\n",
            "<re.Match object; span=(66, 67), match='e'>\n",
            "<re.Match object; span=(67, 68), match=' '>\n",
            "<re.Match object; span=(68, 69), match='a'>\n",
            "<re.Match object; span=(69, 70), match='r'>\n",
            "<re.Match object; span=(70, 71), match='e'>\n",
            "<re.Match object; span=(71, 72), match=' '>\n",
            "<re.Match object; span=(72, 73), match='p'>\n",
            "<re.Match object; span=(73, 74), match='l'>\n",
            "<re.Match object; span=(74, 75), match='e'>\n",
            "<re.Match object; span=(75, 76), match='n'>\n",
            "<re.Match object; span=(76, 77), match='t'>\n",
            "<re.Match object; span=(77, 78), match='y'>\n",
            "<re.Match object; span=(78, 79), match=' '>\n",
            "<re.Match object; span=(79, 80), match='\\n'>\n",
            "<re.Match object; span=(80, 81), match='o'>\n",
            "<re.Match object; span=(81, 82), match='f'>\n",
            "<re.Match object; span=(82, 83), match=' '>\n",
            "<re.Match object; span=(83, 84), match='e'>\n",
            "<re.Match object; span=(84, 85), match='x'>\n",
            "<re.Match object; span=(85, 86), match='c'>\n",
            "<re.Match object; span=(86, 87), match='e'>\n",
            "<re.Match object; span=(87, 88), match='p'>\n",
            "<re.Match object; span=(88, 89), match='t'>\n",
            "<re.Match object; span=(89, 90), match='i'>\n",
            "<re.Match object; span=(90, 91), match='o'>\n",
            "<re.Match object; span=(91, 92), match='n'>\n",
            "<re.Match object; span=(92, 93), match='s'>\n",
            "<re.Match object; span=(93, 94), match='.'>\n",
            "<re.Match object; span=(94, 95), match=' '>\n",
            "<re.Match object; span=(95, 96), match='D'>\n",
            "<re.Match object; span=(96, 97), match='i'>\n",
            "<re.Match object; span=(97, 98), match='f'>\n",
            "<re.Match object; span=(98, 99), match='f'>\n",
            "<re.Match object; span=(99, 100), match='e'>\n",
            "<re.Match object; span=(100, 101), match='r'>\n",
            "<re.Match object; span=(101, 102), match='e'>\n",
            "<re.Match object; span=(102, 103), match='n'>\n",
            "<re.Match object; span=(103, 104), match='t'>\n",
            "<re.Match object; span=(104, 105), match=' '>\n",
            "<re.Match object; span=(105, 106), match='t'>\n",
            "<re.Match object; span=(106, 107), match='y'>\n",
            "<re.Match object; span=(107, 108), match='p'>\n",
            "<re.Match object; span=(108, 109), match='e'>\n",
            "<re.Match object; span=(109, 110), match='s'>\n",
            "<re.Match object; span=(110, 111), match=' '>\n",
            "<re.Match object; span=(111, 112), match='o'>\n",
            "<re.Match object; span=(112, 113), match='f'>\n",
            "<re.Match object; span=(113, 114), match=' '>\n",
            "<re.Match object; span=(114, 115), match='p'>\n",
            "<re.Match object; span=(115, 116), match='a'>\n",
            "<re.Match object; span=(116, 117), match='r'>\n",
            "<re.Match object; span=(117, 118), match='a'>\n",
            "<re.Match object; span=(118, 119), match='g'>\n",
            "<re.Match object; span=(119, 120), match='r'>\n",
            "<re.Match object; span=(120, 121), match='a'>\n",
            "<re.Match object; span=(121, 122), match='p'>\n",
            "<re.Match object; span=(122, 123), match='h'>\n",
            "<re.Match object; span=(123, 124), match='s'>\n",
            "<re.Match object; span=(124, 125), match=' '>\n",
            "<re.Match object; span=(125, 126), match='\\n'>\n",
            "<re.Match object; span=(126, 127), match='h'>\n",
            "<re.Match object; span=(127, 128), match='a'>\n",
            "<re.Match object; span=(128, 129), match='v'>\n",
            "<re.Match object; span=(129, 130), match='e'>\n",
            "<re.Match object; span=(130, 131), match=' '>\n",
            "<re.Match object; span=(131, 132), match='d'>\n",
            "<re.Match object; span=(132, 133), match='i'>\n",
            "<re.Match object; span=(133, 134), match='f'>\n",
            "<re.Match object; span=(134, 135), match='f'>\n",
            "<re.Match object; span=(135, 136), match='e'>\n",
            "<re.Match object; span=(136, 137), match='r'>\n",
            "<re.Match object; span=(137, 138), match='e'>\n",
            "<re.Match object; span=(138, 139), match='n'>\n",
            "<re.Match object; span=(139, 140), match='t'>\n",
            "<re.Match object; span=(140, 141), match=' '>\n",
            "<re.Match object; span=(141, 142), match='n'>\n",
            "<re.Match object; span=(142, 143), match='u'>\n",
            "<re.Match object; span=(143, 144), match='m'>\n",
            "<re.Match object; span=(144, 145), match='b'>\n",
            "<re.Match object; span=(145, 146), match='e'>\n",
            "<re.Match object; span=(146, 147), match='r'>\n",
            "<re.Match object; span=(147, 148), match='s'>\n",
            "<re.Match object; span=(148, 149), match=' '>\n",
            "<re.Match object; span=(149, 150), match='o'>\n",
            "<re.Match object; span=(150, 151), match='f'>\n",
            "<re.Match object; span=(151, 152), match=' '>\n",
            "<re.Match object; span=(152, 153), match='s'>\n",
            "<re.Match object; span=(153, 154), match='e'>\n",
            "<re.Match object; span=(154, 155), match='n'>\n",
            "<re.Match object; span=(155, 156), match='t'>\n",
            "<re.Match object; span=(156, 157), match='e'>\n",
            "<re.Match object; span=(157, 158), match='n'>\n",
            "<re.Match object; span=(158, 159), match='c'>\n",
            "<re.Match object; span=(159, 160), match='e'>\n",
            "<re.Match object; span=(160, 161), match='s'>\n",
            "<re.Match object; span=(161, 162), match=','>\n",
            "<re.Match object; span=(162, 163), match=' '>\n",
            "<re.Match object; span=(163, 164), match='\\n'>\n",
            "<re.Match object; span=(164, 165), match='l'>\n",
            "<re.Match object; span=(165, 166), match='i'>\n",
            "<re.Match object; span=(166, 167), match='k'>\n",
            "<re.Match object; span=(167, 168), match='e'>\n",
            "<re.Match object; span=(168, 169), match=' '>\n",
            "<re.Match object; span=(169, 170), match='t'>\n",
            "<re.Match object; span=(170, 171), match='h'>\n",
            "<re.Match object; span=(171, 172), match='o'>\n",
            "<re.Match object; span=(172, 173), match='s'>\n",
            "<re.Match object; span=(173, 174), match='e'>\n",
            "<re.Match object; span=(174, 175), match=' '>\n",
            "<re.Match object; span=(175, 176), match='i'>\n",
            "<re.Match object; span=(176, 177), match='n'>\n",
            "<re.Match object; span=(177, 178), match=' '>\n",
            "<re.Match object; span=(178, 179), match='n'>\n",
            "<re.Match object; span=(179, 180), match='a'>\n",
            "<re.Match object; span=(180, 181), match='r'>\n",
            "<re.Match object; span=(181, 182), match='r'>\n",
            "<re.Match object; span=(182, 183), match='a'>\n",
            "<re.Match object; span=(183, 184), match='t'>\n",
            "<re.Match object; span=(184, 185), match='i'>\n",
            "<re.Match object; span=(185, 186), match='v'>\n",
            "<re.Match object; span=(186, 187), match='e'>\n",
            "<re.Match object; span=(187, 188), match=' '>\n",
            "<re.Match object; span=(188, 189), match='w'>\n",
            "<re.Match object; span=(189, 190), match='r'>\n",
            "<re.Match object; span=(190, 191), match='i'>\n",
            "<re.Match object; span=(191, 192), match='t'>\n",
            "<re.Match object; span=(192, 193), match='i'>\n",
            "<re.Match object; span=(193, 194), match='n'>\n",
            "<re.Match object; span=(194, 195), match='g'>\n",
            "<re.Match object; span=(195, 196), match=','>\n",
            "<re.Match object; span=(196, 197), match=' '>\n",
            "<re.Match object; span=(197, 198), match='i'>\n",
            "<re.Match object; span=(198, 199), match='n'>\n",
            "<re.Match object; span=(199, 200), match=' '>\n",
            "<re.Match object; span=(203, 204), match=' '>\n",
            "<re.Match object; span=(204, 205), match='p'>\n",
            "<re.Match object; span=(205, 206), match='a'>\n",
            "<re.Match object; span=(206, 207), match='r'>\n",
            "<re.Match object; span=(207, 208), match='t'>\n",
            "<re.Match object; span=(208, 209), match='i'>\n",
            "<re.Match object; span=(209, 210), match='c'>\n",
            "<re.Match object; span=(210, 211), match='u'>\n",
            "<re.Match object; span=(211, 212), match='l'>\n",
            "<re.Match object; span=(212, 213), match='a'>\n",
            "<re.Match object; span=(213, 214), match='r'>\n",
            "<re.Match object; span=(214, 215), match=','>\n",
            "<re.Match object; span=(215, 216), match=' '>\n",
            "<re.Match object; span=(216, 217), match='\\n'>\n",
            "<re.Match object; span=(217, 218), match='w'>\n",
            "<re.Match object; span=(218, 219), match='h'>\n",
            "<re.Match object; span=(219, 220), match='e'>\n",
            "<re.Match object; span=(220, 221), match='r'>\n",
            "<re.Match object; span=(221, 222), match='e'>\n",
            "<re.Match object; span=(222, 223), match=' '>\n",
            "<re.Match object; span=(223, 224), match='s'>\n",
            "<re.Match object; span=(224, 225), match='i'>\n",
            "<re.Match object; span=(225, 226), match='n'>\n",
            "<re.Match object; span=(226, 227), match='g'>\n",
            "<re.Match object; span=(227, 228), match='l'>\n",
            "<re.Match object; span=(228, 229), match='e'>\n",
            "<re.Match object; span=(229, 230), match='-'>\n",
            "<re.Match object; span=(230, 231), match='s'>\n",
            "<re.Match object; span=(231, 232), match='e'>\n",
            "<re.Match object; span=(232, 233), match='n'>\n",
            "<re.Match object; span=(233, 234), match='t'>\n",
            "<re.Match object; span=(234, 235), match='e'>\n",
            "<re.Match object; span=(235, 236), match='n'>\n",
            "<re.Match object; span=(236, 237), match='c'>\n",
            "<re.Match object; span=(237, 238), match='e'>\n",
            "<re.Match object; span=(238, 239), match=' '>\n",
            "<re.Match object; span=(239, 240), match='p'>\n",
            "<re.Match object; span=(240, 241), match='a'>\n",
            "<re.Match object; span=(241, 242), match='r'>\n",
            "<re.Match object; span=(242, 243), match='a'>\n",
            "<re.Match object; span=(243, 244), match='g'>\n",
            "<re.Match object; span=(244, 245), match='r'>\n",
            "<re.Match object; span=(245, 246), match='a'>\n",
            "<re.Match object; span=(246, 247), match='p'>\n",
            "<re.Match object; span=(247, 248), match='h'>\n",
            "<re.Match object; span=(248, 249), match='s'>\n",
            "<re.Match object; span=(249, 250), match=' '>\n",
            "<re.Match object; span=(250, 251), match='a'>\n",
            "<re.Match object; span=(251, 252), match='r'>\n",
            "<re.Match object; span=(252, 253), match='e'>\n",
            "<re.Match object; span=(253, 254), match=' '>\n",
            "<re.Match object; span=(254, 255), match='c'>\n",
            "<re.Match object; span=(255, 256), match='o'>\n",
            "<re.Match object; span=(256, 257), match='m'>\n",
            "<re.Match object; span=(257, 258), match='m'>\n",
            "<re.Match object; span=(258, 259), match='o'>\n",
            "<re.Match object; span=(259, 260), match='n'>\n"
          ]
        }
      ]
    },
    {
      "cell_type": "markdown",
      "source": [
        "# ***\\s\tReturns a match where the string contains a white space character***"
      ],
      "metadata": {
        "id": "a4o3NMnB1bN9"
      }
    },
    {
      "cell_type": "code",
      "source": [
        "matches=re.finditer(r\"\\s\",str)\n",
        "for match in matches:\n",
        "  print(match)"
      ],
      "metadata": {
        "colab": {
          "base_uri": "https://localhost:8080/"
        },
        "id": "IYYwQVVw1RXO",
        "outputId": "d9f06d2f-e734-461e-b08d-39fda22aef96"
      },
      "execution_count": 24,
      "outputs": [
        {
          "output_type": "stream",
          "name": "stdout",
          "text": [
            "<re.Match object; span=(4, 5), match=' '>\n",
            "<re.Match object; span=(15, 16), match=' '>\n",
            "<re.Match object; span=(23, 24), match=' '>\n",
            "<re.Match object; span=(31, 32), match=' '>\n",
            "<re.Match object; span=(37, 38), match=' '>\n",
            "<re.Match object; span=(41, 42), match=' '>\n",
            "<re.Match object; span=(46, 47), match=' '>\n",
            "<re.Match object; span=(57, 58), match=' '>\n",
            "<re.Match object; span=(61, 62), match=' '>\n",
            "<re.Match object; span=(67, 68), match=' '>\n",
            "<re.Match object; span=(71, 72), match=' '>\n",
            "<re.Match object; span=(78, 79), match=' '>\n",
            "<re.Match object; span=(79, 80), match='\\n'>\n",
            "<re.Match object; span=(82, 83), match=' '>\n",
            "<re.Match object; span=(94, 95), match=' '>\n",
            "<re.Match object; span=(104, 105), match=' '>\n",
            "<re.Match object; span=(110, 111), match=' '>\n",
            "<re.Match object; span=(113, 114), match=' '>\n",
            "<re.Match object; span=(124, 125), match=' '>\n",
            "<re.Match object; span=(125, 126), match='\\n'>\n",
            "<re.Match object; span=(130, 131), match=' '>\n",
            "<re.Match object; span=(140, 141), match=' '>\n",
            "<re.Match object; span=(148, 149), match=' '>\n",
            "<re.Match object; span=(151, 152), match=' '>\n",
            "<re.Match object; span=(162, 163), match=' '>\n",
            "<re.Match object; span=(163, 164), match='\\n'>\n",
            "<re.Match object; span=(168, 169), match=' '>\n",
            "<re.Match object; span=(174, 175), match=' '>\n",
            "<re.Match object; span=(177, 178), match=' '>\n",
            "<re.Match object; span=(187, 188), match=' '>\n",
            "<re.Match object; span=(196, 197), match=' '>\n",
            "<re.Match object; span=(199, 200), match=' '>\n",
            "<re.Match object; span=(203, 204), match=' '>\n",
            "<re.Match object; span=(215, 216), match=' '>\n",
            "<re.Match object; span=(216, 217), match='\\n'>\n",
            "<re.Match object; span=(222, 223), match=' '>\n",
            "<re.Match object; span=(238, 239), match=' '>\n",
            "<re.Match object; span=(249, 250), match=' '>\n",
            "<re.Match object; span=(253, 254), match=' '>\n"
          ]
        }
      ]
    },
    {
      "cell_type": "markdown",
      "source": [
        "# ***\\S\tReturns a match where the string DOES NOT contain a white space character***"
      ],
      "metadata": {
        "id": "QRjKWpWM1s-d"
      }
    },
    {
      "cell_type": "code",
      "source": [
        "matches=re.finditer(r\"\\S\",str)\n",
        "for match in matches:\n",
        "  print(match)"
      ],
      "metadata": {
        "colab": {
          "base_uri": "https://localhost:8080/"
        },
        "id": "2DswuSuz1oYP",
        "outputId": "c3914bf7-63f4-4a94-c7d1-0fb428e13ecd"
      },
      "execution_count": 26,
      "outputs": [
        {
          "output_type": "stream",
          "name": "stdout",
          "text": [
            "<re.Match object; span=(0, 1), match='M'>\n",
            "<re.Match object; span=(1, 2), match='o'>\n",
            "<re.Match object; span=(2, 3), match='s'>\n",
            "<re.Match object; span=(3, 4), match='t'>\n",
            "<re.Match object; span=(5, 6), match='p'>\n",
            "<re.Match object; span=(6, 7), match='a'>\n",
            "<re.Match object; span=(7, 8), match='r'>\n",
            "<re.Match object; span=(8, 9), match='a'>\n",
            "<re.Match object; span=(9, 10), match='g'>\n",
            "<re.Match object; span=(10, 11), match='r'>\n",
            "<re.Match object; span=(11, 12), match='a'>\n",
            "<re.Match object; span=(12, 13), match='p'>\n",
            "<re.Match object; span=(13, 14), match='h'>\n",
            "<re.Match object; span=(14, 15), match='s'>\n",
            "<re.Match object; span=(16, 17), match='c'>\n",
            "<re.Match object; span=(17, 18), match='o'>\n",
            "<re.Match object; span=(18, 19), match='n'>\n",
            "<re.Match object; span=(19, 20), match='t'>\n",
            "<re.Match object; span=(20, 21), match='a'>\n",
            "<re.Match object; span=(21, 22), match='i'>\n",
            "<re.Match object; span=(22, 23), match='n'>\n",
            "<re.Match object; span=(24, 25), match='b'>\n",
            "<re.Match object; span=(25, 26), match='e'>\n",
            "<re.Match object; span=(26, 27), match='t'>\n",
            "<re.Match object; span=(27, 28), match='w'>\n",
            "<re.Match object; span=(28, 29), match='e'>\n",
            "<re.Match object; span=(29, 30), match='e'>\n",
            "<re.Match object; span=(30, 31), match='n'>\n",
            "<re.Match object; span=(32, 33), match='t'>\n",
            "<re.Match object; span=(33, 34), match='h'>\n",
            "<re.Match object; span=(34, 35), match='r'>\n",
            "<re.Match object; span=(35, 36), match='e'>\n",
            "<re.Match object; span=(36, 37), match='e'>\n",
            "<re.Match object; span=(38, 39), match='a'>\n",
            "<re.Match object; span=(39, 40), match='n'>\n",
            "<re.Match object; span=(40, 41), match='d'>\n",
            "<re.Match object; span=(42, 43), match='f'>\n",
            "<re.Match object; span=(43, 44), match='i'>\n",
            "<re.Match object; span=(44, 45), match='v'>\n",
            "<re.Match object; span=(45, 46), match='e'>\n",
            "<re.Match object; span=(47, 48), match='s'>\n",
            "<re.Match object; span=(48, 49), match='e'>\n",
            "<re.Match object; span=(49, 50), match='n'>\n",
            "<re.Match object; span=(50, 51), match='t'>\n",
            "<re.Match object; span=(51, 52), match='e'>\n",
            "<re.Match object; span=(52, 53), match='n'>\n",
            "<re.Match object; span=(53, 54), match='c'>\n",
            "<re.Match object; span=(54, 55), match='e'>\n",
            "<re.Match object; span=(55, 56), match='s'>\n",
            "<re.Match object; span=(56, 57), match=','>\n",
            "<re.Match object; span=(58, 59), match='b'>\n",
            "<re.Match object; span=(59, 60), match='u'>\n",
            "<re.Match object; span=(60, 61), match='t'>\n",
            "<re.Match object; span=(62, 63), match='t'>\n",
            "<re.Match object; span=(63, 64), match='h'>\n",
            "<re.Match object; span=(64, 65), match='e'>\n",
            "<re.Match object; span=(65, 66), match='r'>\n",
            "<re.Match object; span=(66, 67), match='e'>\n",
            "<re.Match object; span=(68, 69), match='a'>\n",
            "<re.Match object; span=(69, 70), match='r'>\n",
            "<re.Match object; span=(70, 71), match='e'>\n",
            "<re.Match object; span=(72, 73), match='p'>\n",
            "<re.Match object; span=(73, 74), match='l'>\n",
            "<re.Match object; span=(74, 75), match='e'>\n",
            "<re.Match object; span=(75, 76), match='n'>\n",
            "<re.Match object; span=(76, 77), match='t'>\n",
            "<re.Match object; span=(77, 78), match='y'>\n",
            "<re.Match object; span=(80, 81), match='o'>\n",
            "<re.Match object; span=(81, 82), match='f'>\n",
            "<re.Match object; span=(83, 84), match='e'>\n",
            "<re.Match object; span=(84, 85), match='x'>\n",
            "<re.Match object; span=(85, 86), match='c'>\n",
            "<re.Match object; span=(86, 87), match='e'>\n",
            "<re.Match object; span=(87, 88), match='p'>\n",
            "<re.Match object; span=(88, 89), match='t'>\n",
            "<re.Match object; span=(89, 90), match='i'>\n",
            "<re.Match object; span=(90, 91), match='o'>\n",
            "<re.Match object; span=(91, 92), match='n'>\n",
            "<re.Match object; span=(92, 93), match='s'>\n",
            "<re.Match object; span=(93, 94), match='.'>\n",
            "<re.Match object; span=(95, 96), match='D'>\n",
            "<re.Match object; span=(96, 97), match='i'>\n",
            "<re.Match object; span=(97, 98), match='f'>\n",
            "<re.Match object; span=(98, 99), match='f'>\n",
            "<re.Match object; span=(99, 100), match='e'>\n",
            "<re.Match object; span=(100, 101), match='r'>\n",
            "<re.Match object; span=(101, 102), match='e'>\n",
            "<re.Match object; span=(102, 103), match='n'>\n",
            "<re.Match object; span=(103, 104), match='t'>\n",
            "<re.Match object; span=(105, 106), match='t'>\n",
            "<re.Match object; span=(106, 107), match='y'>\n",
            "<re.Match object; span=(107, 108), match='p'>\n",
            "<re.Match object; span=(108, 109), match='e'>\n",
            "<re.Match object; span=(109, 110), match='s'>\n",
            "<re.Match object; span=(111, 112), match='o'>\n",
            "<re.Match object; span=(112, 113), match='f'>\n",
            "<re.Match object; span=(114, 115), match='p'>\n",
            "<re.Match object; span=(115, 116), match='a'>\n",
            "<re.Match object; span=(116, 117), match='r'>\n",
            "<re.Match object; span=(117, 118), match='a'>\n",
            "<re.Match object; span=(118, 119), match='g'>\n",
            "<re.Match object; span=(119, 120), match='r'>\n",
            "<re.Match object; span=(120, 121), match='a'>\n",
            "<re.Match object; span=(121, 122), match='p'>\n",
            "<re.Match object; span=(122, 123), match='h'>\n",
            "<re.Match object; span=(123, 124), match='s'>\n",
            "<re.Match object; span=(126, 127), match='h'>\n",
            "<re.Match object; span=(127, 128), match='a'>\n",
            "<re.Match object; span=(128, 129), match='v'>\n",
            "<re.Match object; span=(129, 130), match='e'>\n",
            "<re.Match object; span=(131, 132), match='d'>\n",
            "<re.Match object; span=(132, 133), match='i'>\n",
            "<re.Match object; span=(133, 134), match='f'>\n",
            "<re.Match object; span=(134, 135), match='f'>\n",
            "<re.Match object; span=(135, 136), match='e'>\n",
            "<re.Match object; span=(136, 137), match='r'>\n",
            "<re.Match object; span=(137, 138), match='e'>\n",
            "<re.Match object; span=(138, 139), match='n'>\n",
            "<re.Match object; span=(139, 140), match='t'>\n",
            "<re.Match object; span=(141, 142), match='n'>\n",
            "<re.Match object; span=(142, 143), match='u'>\n",
            "<re.Match object; span=(143, 144), match='m'>\n",
            "<re.Match object; span=(144, 145), match='b'>\n",
            "<re.Match object; span=(145, 146), match='e'>\n",
            "<re.Match object; span=(146, 147), match='r'>\n",
            "<re.Match object; span=(147, 148), match='s'>\n",
            "<re.Match object; span=(149, 150), match='o'>\n",
            "<re.Match object; span=(150, 151), match='f'>\n",
            "<re.Match object; span=(152, 153), match='s'>\n",
            "<re.Match object; span=(153, 154), match='e'>\n",
            "<re.Match object; span=(154, 155), match='n'>\n",
            "<re.Match object; span=(155, 156), match='t'>\n",
            "<re.Match object; span=(156, 157), match='e'>\n",
            "<re.Match object; span=(157, 158), match='n'>\n",
            "<re.Match object; span=(158, 159), match='c'>\n",
            "<re.Match object; span=(159, 160), match='e'>\n",
            "<re.Match object; span=(160, 161), match='s'>\n",
            "<re.Match object; span=(161, 162), match=','>\n",
            "<re.Match object; span=(164, 165), match='l'>\n",
            "<re.Match object; span=(165, 166), match='i'>\n",
            "<re.Match object; span=(166, 167), match='k'>\n",
            "<re.Match object; span=(167, 168), match='e'>\n",
            "<re.Match object; span=(169, 170), match='t'>\n",
            "<re.Match object; span=(170, 171), match='h'>\n",
            "<re.Match object; span=(171, 172), match='o'>\n",
            "<re.Match object; span=(172, 173), match='s'>\n",
            "<re.Match object; span=(173, 174), match='e'>\n",
            "<re.Match object; span=(175, 176), match='i'>\n",
            "<re.Match object; span=(176, 177), match='n'>\n",
            "<re.Match object; span=(178, 179), match='n'>\n",
            "<re.Match object; span=(179, 180), match='a'>\n",
            "<re.Match object; span=(180, 181), match='r'>\n",
            "<re.Match object; span=(181, 182), match='r'>\n",
            "<re.Match object; span=(182, 183), match='a'>\n",
            "<re.Match object; span=(183, 184), match='t'>\n",
            "<re.Match object; span=(184, 185), match='i'>\n",
            "<re.Match object; span=(185, 186), match='v'>\n",
            "<re.Match object; span=(186, 187), match='e'>\n",
            "<re.Match object; span=(188, 189), match='w'>\n",
            "<re.Match object; span=(189, 190), match='r'>\n",
            "<re.Match object; span=(190, 191), match='i'>\n",
            "<re.Match object; span=(191, 192), match='t'>\n",
            "<re.Match object; span=(192, 193), match='i'>\n",
            "<re.Match object; span=(193, 194), match='n'>\n",
            "<re.Match object; span=(194, 195), match='g'>\n",
            "<re.Match object; span=(195, 196), match=','>\n",
            "<re.Match object; span=(197, 198), match='i'>\n",
            "<re.Match object; span=(198, 199), match='n'>\n",
            "<re.Match object; span=(200, 201), match='1'>\n",
            "<re.Match object; span=(201, 202), match='0'>\n",
            "<re.Match object; span=(202, 203), match='0'>\n",
            "<re.Match object; span=(204, 205), match='p'>\n",
            "<re.Match object; span=(205, 206), match='a'>\n",
            "<re.Match object; span=(206, 207), match='r'>\n",
            "<re.Match object; span=(207, 208), match='t'>\n",
            "<re.Match object; span=(208, 209), match='i'>\n",
            "<re.Match object; span=(209, 210), match='c'>\n",
            "<re.Match object; span=(210, 211), match='u'>\n",
            "<re.Match object; span=(211, 212), match='l'>\n",
            "<re.Match object; span=(212, 213), match='a'>\n",
            "<re.Match object; span=(213, 214), match='r'>\n",
            "<re.Match object; span=(214, 215), match=','>\n",
            "<re.Match object; span=(217, 218), match='w'>\n",
            "<re.Match object; span=(218, 219), match='h'>\n",
            "<re.Match object; span=(219, 220), match='e'>\n",
            "<re.Match object; span=(220, 221), match='r'>\n",
            "<re.Match object; span=(221, 222), match='e'>\n",
            "<re.Match object; span=(223, 224), match='s'>\n",
            "<re.Match object; span=(224, 225), match='i'>\n",
            "<re.Match object; span=(225, 226), match='n'>\n",
            "<re.Match object; span=(226, 227), match='g'>\n",
            "<re.Match object; span=(227, 228), match='l'>\n",
            "<re.Match object; span=(228, 229), match='e'>\n",
            "<re.Match object; span=(229, 230), match='-'>\n",
            "<re.Match object; span=(230, 231), match='s'>\n",
            "<re.Match object; span=(231, 232), match='e'>\n",
            "<re.Match object; span=(232, 233), match='n'>\n",
            "<re.Match object; span=(233, 234), match='t'>\n",
            "<re.Match object; span=(234, 235), match='e'>\n",
            "<re.Match object; span=(235, 236), match='n'>\n",
            "<re.Match object; span=(236, 237), match='c'>\n",
            "<re.Match object; span=(237, 238), match='e'>\n",
            "<re.Match object; span=(239, 240), match='p'>\n",
            "<re.Match object; span=(240, 241), match='a'>\n",
            "<re.Match object; span=(241, 242), match='r'>\n",
            "<re.Match object; span=(242, 243), match='a'>\n",
            "<re.Match object; span=(243, 244), match='g'>\n",
            "<re.Match object; span=(244, 245), match='r'>\n",
            "<re.Match object; span=(245, 246), match='a'>\n",
            "<re.Match object; span=(246, 247), match='p'>\n",
            "<re.Match object; span=(247, 248), match='h'>\n",
            "<re.Match object; span=(248, 249), match='s'>\n",
            "<re.Match object; span=(250, 251), match='a'>\n",
            "<re.Match object; span=(251, 252), match='r'>\n",
            "<re.Match object; span=(252, 253), match='e'>\n",
            "<re.Match object; span=(254, 255), match='c'>\n",
            "<re.Match object; span=(255, 256), match='o'>\n",
            "<re.Match object; span=(256, 257), match='m'>\n",
            "<re.Match object; span=(257, 258), match='m'>\n",
            "<re.Match object; span=(258, 259), match='o'>\n",
            "<re.Match object; span=(259, 260), match='n'>\n"
          ]
        }
      ]
    },
    {
      "cell_type": "markdown",
      "source": [
        "# ***\\w\tReturns a match where the string contains any word characters (characters from a to Z, digits from 0-9, and the underscore _ character)***"
      ],
      "metadata": {
        "id": "9ZfY9d-_13kb"
      }
    },
    {
      "cell_type": "code",
      "source": [
        "matches=re.finditer(r\"\\w\",str)\n",
        "for match in matches:\n",
        "  print(match)"
      ],
      "metadata": {
        "id": "9eEnYgXx2JT-"
      },
      "execution_count": null,
      "outputs": []
    },
    {
      "cell_type": "markdown",
      "source": [
        "# ***\\W\tReturns a match where the string DOES NOT contain any word characters***"
      ],
      "metadata": {
        "id": "vQTQxdwg2XUl"
      }
    },
    {
      "cell_type": "code",
      "source": [
        "matches=re.finditer(r\"\\W\",str)\n",
        "for match in matches:\n",
        "  print(match)"
      ],
      "metadata": {
        "colab": {
          "base_uri": "https://localhost:8080/"
        },
        "id": "gvn-4d2f2SpZ",
        "outputId": "6879aead-bbb1-4013-c67f-b19bf9a6d443"
      },
      "execution_count": 28,
      "outputs": [
        {
          "output_type": "stream",
          "name": "stdout",
          "text": [
            "<re.Match object; span=(4, 5), match=' '>\n",
            "<re.Match object; span=(15, 16), match=' '>\n",
            "<re.Match object; span=(23, 24), match=' '>\n",
            "<re.Match object; span=(31, 32), match=' '>\n",
            "<re.Match object; span=(37, 38), match=' '>\n",
            "<re.Match object; span=(41, 42), match=' '>\n",
            "<re.Match object; span=(46, 47), match=' '>\n",
            "<re.Match object; span=(56, 57), match=','>\n",
            "<re.Match object; span=(57, 58), match=' '>\n",
            "<re.Match object; span=(61, 62), match=' '>\n",
            "<re.Match object; span=(67, 68), match=' '>\n",
            "<re.Match object; span=(71, 72), match=' '>\n",
            "<re.Match object; span=(78, 79), match=' '>\n",
            "<re.Match object; span=(79, 80), match='\\n'>\n",
            "<re.Match object; span=(82, 83), match=' '>\n",
            "<re.Match object; span=(93, 94), match='.'>\n",
            "<re.Match object; span=(94, 95), match=' '>\n",
            "<re.Match object; span=(104, 105), match=' '>\n",
            "<re.Match object; span=(110, 111), match=' '>\n",
            "<re.Match object; span=(113, 114), match=' '>\n",
            "<re.Match object; span=(124, 125), match=' '>\n",
            "<re.Match object; span=(125, 126), match='\\n'>\n",
            "<re.Match object; span=(130, 131), match=' '>\n",
            "<re.Match object; span=(140, 141), match=' '>\n",
            "<re.Match object; span=(148, 149), match=' '>\n",
            "<re.Match object; span=(151, 152), match=' '>\n",
            "<re.Match object; span=(161, 162), match=','>\n",
            "<re.Match object; span=(162, 163), match=' '>\n",
            "<re.Match object; span=(163, 164), match='\\n'>\n",
            "<re.Match object; span=(168, 169), match=' '>\n",
            "<re.Match object; span=(174, 175), match=' '>\n",
            "<re.Match object; span=(177, 178), match=' '>\n",
            "<re.Match object; span=(187, 188), match=' '>\n",
            "<re.Match object; span=(195, 196), match=','>\n",
            "<re.Match object; span=(196, 197), match=' '>\n",
            "<re.Match object; span=(199, 200), match=' '>\n",
            "<re.Match object; span=(203, 204), match=' '>\n",
            "<re.Match object; span=(214, 215), match=','>\n",
            "<re.Match object; span=(215, 216), match=' '>\n",
            "<re.Match object; span=(216, 217), match='\\n'>\n",
            "<re.Match object; span=(222, 223), match=' '>\n",
            "<re.Match object; span=(229, 230), match='-'>\n",
            "<re.Match object; span=(238, 239), match=' '>\n",
            "<re.Match object; span=(249, 250), match=' '>\n",
            "<re.Match object; span=(253, 254), match=' '>\n"
          ]
        }
      ]
    },
    {
      "cell_type": "markdown",
      "source": [
        "# *\\Z\tReturns a match if the specified characters are at the end of the string*"
      ],
      "metadata": {
        "id": "k8I4szIX2ul_"
      }
    },
    {
      "cell_type": "code",
      "source": [
        "matches=re.finditer(r\"common\\Z\",str)\n",
        "for match in matches:\n",
        "  print(match)"
      ],
      "metadata": {
        "colab": {
          "base_uri": "https://localhost:8080/"
        },
        "id": "76JqxHQw2k3z",
        "outputId": "25f10b83-4d2a-4cbc-a9e4-faf4683cedc0"
      },
      "execution_count": 30,
      "outputs": [
        {
          "output_type": "stream",
          "name": "stdout",
          "text": [
            "<re.Match object; span=(254, 260), match='common'>\n"
          ]
        }
      ]
    },
    {
      "cell_type": "code",
      "source": [],
      "metadata": {
        "id": "0zdp9bjD2_IV"
      },
      "execution_count": null,
      "outputs": []
    }
  ]
}